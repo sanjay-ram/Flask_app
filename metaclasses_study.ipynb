{
 "cells": [
  {
   "cell_type": "code",
   "id": "initial_id",
   "metadata": {
    "collapsed": true,
    "ExecuteTime": {
     "end_time": "2025-05-15T21:17:08.198196Z",
     "start_time": "2025-05-15T21:17:08.186702Z"
    }
   },
   "source": [
    "class mymetaclass(type):\n",
    "    \"\"\"\n",
    "    meta classes for  creating  ORM  model class\n",
    "    \"\"\"\n",
    "    def __new__(cls, name, bases, attrs):\n",
    "        table_name = attrs.get('table_name', name.lower())\n",
    "        attrs['table_name'] = table_name\n",
    "        return super().__new__(cls, name, bases, attrs)\n",
    "    \n",
    "class Model(metaclass=mymetaclass):\n",
    "    \"\"\"\n",
    "    Model\n",
    "    \"\"\"\n",
    "    pass\n",
    "\n",
    "class User(Model):\n",
    "    __table_name__ = 'users'\n",
    "\n",
    "\n",
    "print(User.__table_name__)"
   ],
   "outputs": [
    {
     "name": "stdout",
     "output_type": "stream",
     "text": [
      "users\n"
     ]
    }
   ],
   "execution_count": 1
  }
 ],
 "metadata": {
  "kernelspec": {
   "display_name": "Python 3",
   "language": "python",
   "name": "python3"
  },
  "language_info": {
   "codemirror_mode": {
    "name": "ipython",
    "version": 2
   },
   "file_extension": ".py",
   "mimetype": "text/x-python",
   "name": "python",
   "nbconvert_exporter": "python",
   "pygments_lexer": "ipython2",
   "version": "2.7.6"
  }
 },
 "nbformat": 4,
 "nbformat_minor": 5
}
