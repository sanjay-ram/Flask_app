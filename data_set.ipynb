{
 "cells": [
  {
   "cell_type": "code",
   "id": "initial_id",
   "metadata": {
    "collapsed": true,
    "ExecuteTime": {
     "end_time": "2025-05-12T09:29:48.296652Z",
     "start_time": "2025-05-12T09:29:48.290904Z"
    }
   },
   "source": [
    "my_set = {1, 2, 3, 4, 4, 5}\n",
    "print(my_set)"
   ],
   "outputs": [
    {
     "name": "stdout",
     "output_type": "stream",
     "text": [
      "{1, 2, 3, 4, 5}\n"
     ]
    }
   ],
   "execution_count": 11
  },
  {
   "metadata": {
    "ExecuteTime": {
     "end_time": "2025-05-12T09:33:33.017233Z",
     "start_time": "2025-05-12T09:33:33.003880Z"
    }
   },
   "cell_type": "code",
   "source": [
    "my_set.add(6)\n",
    "print(my_set)"
   ],
   "id": "b6d672501048e695",
   "outputs": [
    {
     "name": "stdout",
     "output_type": "stream",
     "text": [
      "{1, 2, 4, 5, 6}\n"
     ]
    }
   ],
   "execution_count": 20
  },
  {
   "metadata": {
    "ExecuteTime": {
     "end_time": "2025-05-12T09:33:42.700037Z",
     "start_time": "2025-05-12T09:33:42.662075Z"
    }
   },
   "cell_type": "code",
   "source": [
    "my_set.remove(3)\n",
    "print(my_set)"
   ],
   "id": "a8aaf1c1dac1849f",
   "outputs": [
    {
     "ename": "KeyError",
     "evalue": "3",
     "output_type": "error",
     "traceback": [
      "\u001B[31m---------------------------------------------------------------------------\u001B[39m",
      "\u001B[31mKeyError\u001B[39m                                  Traceback (most recent call last)",
      "\u001B[36mCell\u001B[39m\u001B[36m \u001B[39m\u001B[32mIn[21]\u001B[39m\u001B[32m, line 1\u001B[39m\n\u001B[32m----> \u001B[39m\u001B[32m1\u001B[39m \u001B[43mmy_set\u001B[49m\u001B[43m.\u001B[49m\u001B[43mremove\u001B[49m\u001B[43m(\u001B[49m\u001B[32;43m3\u001B[39;49m\u001B[43m)\u001B[49m\n\u001B[32m      2\u001B[39m \u001B[38;5;28mprint\u001B[39m(my_set)\n",
      "\u001B[31mKeyError\u001B[39m: 3"
     ]
    }
   ],
   "execution_count": 21
  },
  {
   "metadata": {
    "ExecuteTime": {
     "end_time": "2025-05-12T09:33:57.078330Z",
     "start_time": "2025-05-12T09:33:57.071291Z"
    }
   },
   "cell_type": "code",
   "source": "print(2 in my_set)",
   "id": "b8ec70e9118d1cf9",
   "outputs": [
    {
     "name": "stdout",
     "output_type": "stream",
     "text": [
      "True\n"
     ]
    }
   ],
   "execution_count": 22
  },
  {
   "metadata": {
    "ExecuteTime": {
     "end_time": "2025-05-12T09:34:02.792397Z",
     "start_time": "2025-05-12T09:34:02.784852Z"
    }
   },
   "cell_type": "code",
   "source": "print(7 in my_set)",
   "id": "479995e8a38363f1",
   "outputs": [
    {
     "name": "stdout",
     "output_type": "stream",
     "text": [
      "False\n"
     ]
    }
   ],
   "execution_count": 23
  },
  {
   "metadata": {},
   "cell_type": "code",
   "outputs": [],
   "execution_count": null,
   "source": "#### Real-world Scenario",
   "id": "1e61451017971fbb"
  },
  {
   "metadata": {},
   "cell_type": "markdown",
   "source": "",
   "id": "2fa4f3396795605b"
  },
  {
   "metadata": {
    "ExecuteTime": {
     "end_time": "2025-05-12T09:39:47.135036Z",
     "start_time": "2025-05-12T09:39:47.129481Z"
    }
   },
   "cell_type": "code",
   "source": "email_list = [\"john@example.com\", \"jane@example.com\", \"peter@example.com\", \"hans@example.com\", \"john@example.com\"]",
   "id": "1fd1f7cc8e848b4",
   "outputs": [],
   "execution_count": 26
  },
  {
   "metadata": {
    "ExecuteTime": {
     "end_time": "2025-05-12T09:42:40.627131Z",
     "start_time": "2025-05-12T09:42:40.620368Z"
    }
   },
   "cell_type": "code",
   "source": [
    "unique_email_list = set(email_list)\n",
    "print(unique_email_list)"
   ],
   "id": "bc52ec5e32d41e28",
   "outputs": [
    {
     "name": "stdout",
     "output_type": "stream",
     "text": [
      "{'hans@example.com', 'jane@example.com', 'john@example.com', 'peter@example.com'}\n"
     ]
    }
   ],
   "execution_count": 28
  },
  {
   "metadata": {
    "ExecuteTime": {
     "end_time": "2025-05-12T09:42:59.265054Z",
     "start_time": "2025-05-12T09:42:59.255466Z"
    }
   },
   "cell_type": "code",
   "source": "from collections import deque",
   "id": "36d9ef889255cef0",
   "outputs": [],
   "execution_count": 29
  },
  {
   "metadata": {
    "ExecuteTime": {
     "end_time": "2025-05-12T09:43:22.932936Z",
     "start_time": "2025-05-12T09:43:22.927954Z"
    }
   },
   "cell_type": "code",
   "source": "my_deque = deque({1, 2, 3})",
   "id": "6dee4d479b74460e",
   "outputs": [],
   "execution_count": 30
  },
  {
   "metadata": {
    "ExecuteTime": {
     "end_time": "2025-05-12T09:44:22.309690Z",
     "start_time": "2025-05-12T09:44:22.302819Z"
    }
   },
   "cell_type": "code",
   "source": [
    "my_deque.append(4)\n",
    "print(my_deque)"
   ],
   "id": "100d7bf4be9a2bb0",
   "outputs": [
    {
     "name": "stdout",
     "output_type": "stream",
     "text": [
      "deque([1, 2, 3, 4, 5, 4, 4])\n"
     ]
    }
   ],
   "execution_count": 32
  },
  {
   "metadata": {
    "ExecuteTime": {
     "end_time": "2025-05-12T09:45:02.155078Z",
     "start_time": "2025-05-12T09:45:02.147085Z"
    }
   },
   "cell_type": "code",
   "source": [
    "my_deque.appendleft(0)\n",
    "print(my_deque)"
   ],
   "id": "2f15d7663399c58b",
   "outputs": [
    {
     "name": "stdout",
     "output_type": "stream",
     "text": [
      "deque([0, 1, 2, 3, 4, 5, 4, 4])\n"
     ]
    }
   ],
   "execution_count": 33
  },
  {
   "metadata": {
    "ExecuteTime": {
     "end_time": "2025-05-12T09:46:02.515457Z",
     "start_time": "2025-05-12T09:46:02.507397Z"
    }
   },
   "cell_type": "code",
   "source": [
    "my_deque.pop()\n",
    "print(my_deque)"
   ],
   "id": "60283f5cb37c347e",
   "outputs": [
    {
     "name": "stdout",
     "output_type": "stream",
     "text": [
      "deque([0, 1, 2, 3, 4])\n"
     ]
    }
   ],
   "execution_count": 37
  },
  {
   "metadata": {
    "ExecuteTime": {
     "end_time": "2025-05-12T09:49:42.026579Z",
     "start_time": "2025-05-12T09:49:42.019311Z"
    }
   },
   "cell_type": "code",
   "source": [
    "my_deque.popleft()\n",
    "print(my_deque)"
   ],
   "id": "b1b5c299b4890352",
   "outputs": [
    {
     "name": "stdout",
     "output_type": "stream",
     "text": [
      "deque([2, 3, 4])\n"
     ]
    }
   ],
   "execution_count": 39
  },
  {
   "metadata": {
    "ExecuteTime": {
     "end_time": "2025-05-12T09:50:06.932283Z",
     "start_time": "2025-05-12T09:50:06.926164Z"
    }
   },
   "cell_type": "code",
   "source": [
    "undo_stacks = deque()\n",
    "redo_stacks = deque()"
   ],
   "id": "60b4846373a86020",
   "outputs": [],
   "execution_count": 40
  },
  {
   "metadata": {
    "ExecuteTime": {
     "end_time": "2025-05-12T09:53:39.011267Z",
     "start_time": "2025-05-12T09:53:38.936157Z"
    }
   },
   "cell_type": "code",
   "source": [
    "def perform_action(action):\n",
    "    undo_stacks.append(action)\n",
    "    redo_stacks.clear()\n",
    "\n",
    "def undo():\n",
    "    if undo_stacks :\n",
    "        action = undo_stacks.pop()\n",
    "        redo_stacks.append(action)\n",
    "\n",
    "def redo():\n",
    "    if redo_stacks :\n",
    "        action = redo_stacks.pop()\n",
    "        undo_stacks.append(action)"
   ],
   "id": "541817000e816532",
   "outputs": [],
   "execution_count": 41
  },
  {
   "metadata": {
    "ExecuteTime": {
     "end_time": "2025-05-12T09:56:57.695176Z",
     "start_time": "2025-05-12T09:56:57.643518Z"
    }
   },
   "cell_type": "code",
   "source": [
    "split_words = str(\"Hello World\").split()\n",
    "for word in split_words:\n",
    "    perform_action(word)"
   ],
   "id": "43ce9e4e986d47bf",
   "outputs": [
    {
     "ename": "AttributeError",
     "evalue": "'function' object has no attribute 'append'",
     "output_type": "error",
     "traceback": [
      "\u001B[31m---------------------------------------------------------------------------\u001B[39m",
      "\u001B[31mAttributeError\u001B[39m                            Traceback (most recent call last)",
      "\u001B[36mCell\u001B[39m\u001B[36m \u001B[39m\u001B[32mIn[44]\u001B[39m\u001B[32m, line 3\u001B[39m\n\u001B[32m      1\u001B[39m split_words = \u001B[38;5;28mstr\u001B[39m(\u001B[33m\"\u001B[39m\u001B[33mHello World\u001B[39m\u001B[33m\"\u001B[39m).split()\n\u001B[32m      2\u001B[39m \u001B[38;5;28;01mfor\u001B[39;00m word \u001B[38;5;129;01min\u001B[39;00m split_words:\n\u001B[32m----> \u001B[39m\u001B[32m3\u001B[39m     \u001B[43mperform_action\u001B[49m\u001B[43m(\u001B[49m\u001B[43mword\u001B[49m\u001B[43m)\u001B[49m\n",
      "\u001B[36mCell\u001B[39m\u001B[36m \u001B[39m\u001B[32mIn[41]\u001B[39m\u001B[32m, line 2\u001B[39m, in \u001B[36mperform_action\u001B[39m\u001B[34m(action)\u001B[39m\n\u001B[32m      1\u001B[39m \u001B[38;5;28;01mdef\u001B[39;00m\u001B[38;5;250m \u001B[39m\u001B[34mperform_action\u001B[39m(action):\n\u001B[32m----> \u001B[39m\u001B[32m2\u001B[39m     \u001B[43mundo\u001B[49m\u001B[43m.\u001B[49m\u001B[43mappend\u001B[49m(action)\n\u001B[32m      3\u001B[39m     redo.clear()\n",
      "\u001B[31mAttributeError\u001B[39m: 'function' object has no attribute 'append'"
     ]
    }
   ],
   "execution_count": 44
  },
  {
   "metadata": {
    "ExecuteTime": {
     "end_time": "2025-05-12T09:58:34.558116Z",
     "start_time": "2025-05-12T09:58:34.508991Z"
    }
   },
   "cell_type": "code",
   "source": "undo()",
   "id": "43d33165ac681573",
   "outputs": [
    {
     "ename": "AttributeError",
     "evalue": "'function' object has no attribute 'pop'",
     "output_type": "error",
     "traceback": [
      "\u001B[31m---------------------------------------------------------------------------\u001B[39m",
      "\u001B[31mAttributeError\u001B[39m                            Traceback (most recent call last)",
      "\u001B[36mCell\u001B[39m\u001B[36m \u001B[39m\u001B[32mIn[47]\u001B[39m\u001B[32m, line 1\u001B[39m\n\u001B[32m----> \u001B[39m\u001B[32m1\u001B[39m \u001B[43mundo\u001B[49m\u001B[43m(\u001B[49m\u001B[43m)\u001B[49m\n",
      "\u001B[36mCell\u001B[39m\u001B[36m \u001B[39m\u001B[32mIn[41]\u001B[39m\u001B[32m, line 7\u001B[39m, in \u001B[36mundo\u001B[39m\u001B[34m()\u001B[39m\n\u001B[32m      5\u001B[39m \u001B[38;5;28;01mdef\u001B[39;00m\u001B[38;5;250m \u001B[39m\u001B[34mundo\u001B[39m():\n\u001B[32m      6\u001B[39m     \u001B[38;5;28;01mif\u001B[39;00m undo :\n\u001B[32m----> \u001B[39m\u001B[32m7\u001B[39m         action = \u001B[43mundo\u001B[49m\u001B[43m.\u001B[49m\u001B[43mpop\u001B[49m()\n\u001B[32m      8\u001B[39m         redo.append(action)\n",
      "\u001B[31mAttributeError\u001B[39m: 'function' object has no attribute 'pop'"
     ]
    }
   ],
   "execution_count": 47
  }
 ],
 "metadata": {
  "kernelspec": {
   "display_name": "Python 3",
   "language": "python",
   "name": "python3"
  },
  "language_info": {
   "codemirror_mode": {
    "name": "ipython",
    "version": 2
   },
   "file_extension": ".py",
   "mimetype": "text/x-python",
   "name": "python",
   "nbconvert_exporter": "python",
   "pygments_lexer": "ipython2",
   "version": "2.7.6"
  }
 },
 "nbformat": 4,
 "nbformat_minor": 5
}
